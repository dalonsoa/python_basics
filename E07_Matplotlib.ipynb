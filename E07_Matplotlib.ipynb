{
 "cells": [
  {
   "cell_type": "markdown",
   "metadata": {},
   "source": [
    "# Episode 8: Plotting with Matplotlib\n",
    "\n",
    "- How do I plot some data?\n",
    "- What kind of plots can I do?\n",
    "\n",
    "\n"
   ]
  },
  {
   "cell_type": "markdown",
   "metadata": {},
   "source": [
    "# Matplotlib\n",
    "- This is the fundamental Python library for making graphics. \n",
    "- There are other options, but tend to be focus on a particular type of plots or applications, and are less flexible\n",
    "    - https://mode.com/blog/python-data-visualization-libraries \n",
    "- Matplotlib is increadibly flexible and lets you customized any aspect of a plot... althought not is not always straight forward.\n",
    "    - But it has an excellent documention: https://matplotlib.org/index.html \n",
    "- Some of the features are:\n",
    "    - Type of plots: \n",
    "        - lines and scatter\n",
    "        - bars and histograms\n",
    "        - violin and box plots\n",
    "        - bubble and pie charts\n",
    "        - polar plots\n",
    "        - contour and surface plots\n",
    "        - images and animations\n",
    "        - 3D plots\n",
    "    - Panels of plots, subplots, insets and secondary axes\n",
    "    - Text anotations, LaTex support for mathematical equations\n",
    "    - Drawing of geometrical figures, arrows\n",
    "    \n",
    "- The main plotting tools are accessed with:\n",
    "        \n",
    "```python\n",
    "import matplotly.pyplot as plt\n",
    "```\n",
    "\n",
    "- Whenever a *plot* command is executed, it is necessary to *render* it with:\n",
    "\n",
    "```python\n",
    "plt.show()\n",
    "```"
   ]
  },
  {
   "cell_type": "code",
   "execution_count": null,
   "metadata": {},
   "outputs": [],
   "source": []
  },
  {
   "cell_type": "markdown",
   "metadata": {},
   "source": [
    "## Line and scatter plots\n",
    "- The most basic kind of plot\n",
    "- Example:\n",
    "    - Create an array of angles between 0 and 4pi\n",
    "    - Plot their sine, cosine and tangent\n",
    "        - As lines with different colours\n",
    "        - As scatter with different symbols\n",
    "\n",
    "\n",
    "\n"
   ]
  },
  {
   "cell_type": "code",
   "execution_count": null,
   "metadata": {},
   "outputs": [],
   "source": []
  },
  {
   "cell_type": "markdown",
   "metadata": {},
   "source": [
    "## Box and Violin plots\n",
    "- Commonly used to represent statistical data as well as its dispersion\n",
    "- Example:\n",
    "    - Create a list of random data with a gaussian distributions of different central value and standard deviation\n",
    "    \n",
    "            numpy.random.normal(central_value, std, number)\n",
    "    \n",
    "    - Plot the data using a box plot\n",
    "    \n",
    "            plt.boxplot(my_data)\n",
    "            \n",
    "    - Repeat with a violin plot\n",
    "    \n",
    "            plt.violinplot(my_data)\n",
    "    "
   ]
  },
  {
   "cell_type": "code",
   "execution_count": null,
   "metadata": {},
   "outputs": [],
   "source": []
  },
  {
   "cell_type": "markdown",
   "metadata": {},
   "source": [
    "## Histograms\n",
    "- Similar to the one before, but with a different representation\n",
    "- Example:\n",
    "    - Use the data of the previous example to plot a histogram with\n",
    "\n",
    "            plt.hist(my_data)\n",
    "               "
   ]
  },
  {
   "cell_type": "code",
   "execution_count": null,
   "metadata": {},
   "outputs": [],
   "source": []
  },
  {
   "cell_type": "markdown",
   "metadata": {},
   "source": [
    "## Contour plot\n",
    "- Contour maps, typically representing a third dimension with a range of colours\n",
    "- Example:\n",
    "    - Load the numpy_data.txt file\n",
    "    - Plot the data using:\n",
    "        \n",
    "            plot.imshow(my_data)\n",
    "            plot.contour(my_data)\n",
    "            plot.contourf(my_data)\n",
    "            \n",
    "    - What's the difference among the three of them?"
   ]
  },
  {
   "cell_type": "code",
   "execution_count": null,
   "metadata": {},
   "outputs": [],
   "source": []
  },
  {
   "cell_type": "markdown",
   "metadata": {},
   "source": [
    "# Challenge\n",
    "\n",
    "Plot the Nial data of the previous episode as:\n",
    "- Independent plots\n",
    "- All curves on the same plot\n",
    "\n",
    "Play with diferent formating options to give the lines different colours, markers, and also include a legend. "
   ]
  },
  {
   "cell_type": "code",
   "execution_count": null,
   "metadata": {},
   "outputs": [],
   "source": []
  }
 ],
 "metadata": {
  "kernelspec": {
   "display_name": "Python 3",
   "language": "python",
   "name": "python3"
  },
  "language_info": {
   "codemirror_mode": {
    "name": "ipython",
    "version": 3
   },
   "file_extension": ".py",
   "mimetype": "text/x-python",
   "name": "python",
   "nbconvert_exporter": "python",
   "pygments_lexer": "ipython3",
   "version": "3.7.7"
  }
 },
 "nbformat": 4,
 "nbformat_minor": 2
}
