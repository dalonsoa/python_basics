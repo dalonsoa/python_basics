{
 "cells": [
  {
   "cell_type": "markdown",
   "metadata": {},
   "source": [
    "# Episode 4: Functions\n",
    "\n",
    "- What are functions?\n",
    "- How do you call a function?\n",
    "- Do function always return a value?\n",
    "- How many arguments do funtions have?\n",
    "- Can you create your own functions?\n",
    "\n"
   ]
  },
  {
   "cell_type": "markdown",
   "metadata": {},
   "source": [
    "# The basics\n",
    "- Functions are used to encapculate those parts of the code that have a specific functionality. \n",
    "- This makes the code clearer, easier to read, to debug and to re-use. They are individual units with a logical purpose. \n",
    "- Functions might be called with 0, 1, 2 or as many arguments as required (see below).\n",
    "- But they **ALWAYS** return something, even if it is just the object *None*. "
   ]
  },
  {
   "cell_type": "code",
   "execution_count": null,
   "metadata": {},
   "outputs": [],
   "source": []
  },
  {
   "cell_type": "markdown",
   "metadata": {},
   "source": [
    "## Built-in functions\n",
    "- Python has many functions that are part of the base code and that don't need to be imported.\n",
    "- *print* used to print information on the screen (or a file).\n",
    "- *len* to get the length of a list or string.\n",
    "- *int*, *float*, *str*... to transform the type of a variable.  \n",
    "- *round* to round a float number to a certain number of decimal digits."
   ]
  },
  {
   "cell_type": "code",
   "execution_count": null,
   "metadata": {},
   "outputs": [],
   "source": []
  },
  {
   "cell_type": "markdown",
   "metadata": {},
   "source": [
    "## Arguments and outputs\n",
    "- All functions **ALWAYS** return somthing\n",
    "    - A number, string, list, dictionary...\n",
    "    - A custom object\n",
    "    - Another function\n",
    "    - None\n",
    "- Functions might have 0 or more input arguments inside the ()\n",
    "- They can be included in two different ways:\n",
    "    - Positional arguments: their meaning depend in which order they appear in the list of arguments.\n",
    "    - Keyword arguments: the argument is asign explicitly a variable in the list of input variables: keyword = my_value. \n",
    "- Some arguments are optional and will have default values if not given one. "
   ]
  },
  {
   "cell_type": "code",
   "execution_count": null,
   "metadata": {},
   "outputs": [],
   "source": []
  },
  {
   "cell_type": "markdown",
   "metadata": {},
   "source": [
    "## Custom functions\n",
    "- Programmers can (and MUST) create their own functions to encapsulate their code.\n",
    "- A function is created with a function definition:\n",
    "\n",
    "```python\n",
    "    def my_function_name(list, of, parameters, if, any):    \n",
    "    \"\"\" (DOCUMENTATION) This function does this and that and bla, bla, bla...\n",
    "    \"\"\"\n",
    "        (body of the function)\n",
    "        return (some output, OPTIONAL)\n",
    "```\n",
    "\n",
    "- my_function_name follows the same general rules than variable names.\n",
    "- A function can be used **ONLY** after its definition, that is why they tend to be near the top of our python scripts or in a separate file and then imported as an external module. \n",
    "- A function can have one or more *return* statements:\n",
    "    - If not present, the body of the function is executed and then it ends, returning *None*\n",
    "    - If they are present, the body of the function will continue until a return statement is found. \n",
    "    - If there is more than one *return*, they are tipically inside conditional statements, so the function can return different things depending on what is happening inside. \n",
    "- Good coding practice dictates that **ANY** function must have some documentation. \n",
    "    - This should be included in triple double quotes just after the first line of the function.  \n",
    "    - This is the information that is printed when using the *help* function. \n",
    "        "
   ]
  },
  {
   "cell_type": "code",
   "execution_count": null,
   "metadata": {},
   "outputs": [],
   "source": []
  },
  {
   "cell_type": "markdown",
   "metadata": {},
   "source": [
    "# Function arguments\n",
    "\n",
    "- Functions can have two types of input arguments:\n",
    "    - **positional arguments** that must always be provided when calling the function.\n",
    "    - **keyword arguments** that are optional and have a default value, if not provided.\n",
    "- In the following function definition, `a` and `b` are positional arguments and `c` and `d` are keword arguments. \n",
    "```python\n",
    "    def my_fun(a, b, c=3, d=None):\n",
    "        ...\n",
    "```\n",
    "- When calling a function, positional arguments are assigned in the same order they are provided in the function definition. When calling `my_fun(\"hi\", 42)`, `a=hi` and `b=42`. `c` and `d` will take their default values. \n",
    "- Positional argument can be provided in any order, but always after the positional arguments, eg. `my_fun(\"hi\", 42, d=[1, 2, 3])`.\n"
   ]
  },
  {
   "cell_type": "code",
   "execution_count": null,
   "metadata": {},
   "outputs": [],
   "source": []
  },
  {
   "cell_type": "markdown",
   "metadata": {},
   "source": [
    "# Challenges\n",
    "\n",
    "Take some (or all!) of the derived properties in [parameters LGM50cellBOL.csv](https://imperiallondon.sharepoint.com/sites/TheGoodEnoughModelGEM/Shared%20Documents/General/LGM50%20parameters_Ganesh/parameters%20LGM50cellBOL.csv) and convert them into functions.\n"
   ]
  },
  {
   "cell_type": "code",
   "execution_count": null,
   "metadata": {},
   "outputs": [],
   "source": []
  }
 ],
 "metadata": {
  "kernelspec": {
   "display_name": "Python 3",
   "language": "python",
   "name": "python3"
  },
  "language_info": {
   "codemirror_mode": {
    "name": "ipython",
    "version": 3
   },
   "file_extension": ".py",
   "mimetype": "text/x-python",
   "name": "python",
   "nbconvert_exporter": "python",
   "pygments_lexer": "ipython3",
   "version": "3.7.7"
  }
 },
 "nbformat": 4,
 "nbformat_minor": 2
}
